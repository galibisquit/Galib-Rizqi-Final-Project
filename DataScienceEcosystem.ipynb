{
  "nbformat": 4,
  "nbformat_minor": 0,
  "metadata": {
    "colab": {
      "provenance": [],
      "authorship_tag": "ABX9TyMf6/W/K7Bt2S6tB9W6rL8u",
      "include_colab_link": true
    },
    "kernelspec": {
      "name": "python3",
      "display_name": "Python 3"
    },
    "language_info": {
      "name": "python"
    }
  },
  "cells": [
    {
      "cell_type": "markdown",
      "metadata": {
        "id": "view-in-github",
        "colab_type": "text"
      },
      "source": [
        "<a href=\"https://colab.research.google.com/github/galibisquit/Galib-Rizqi-Final-Project/blob/main/DataScienceEcosystem.ipynb\" target=\"_parent\"><img src=\"https://colab.research.google.com/assets/colab-badge.svg\" alt=\"Open In Colab\"/></a>"
      ]
    },
    {
      "cell_type": "markdown",
      "source": [
        "<H1>Data Science Tools and Ecosystem<H1>\n"
      ],
      "metadata": {
        "id": "8DjTTIOeIZ82"
      }
    },
    {
      "cell_type": "markdown",
      "source": [
        "In this notebook, Data Science Tools and Ecosystem are summarized.\n",
        "\n"
      ],
      "metadata": {
        "id": "sk_MS9enIrq3"
      }
    },
    {
      "cell_type": "markdown",
      "source": [
        "Some of the popular languages that Data Scientists use are:\n",
        "1. Dplyr\n",
        "2. Seaborn\n",
        "3. Matplotlib\n"
      ],
      "metadata": {
        "id": "YDB7LUbBIxdP"
      }
    },
    {
      "cell_type": "markdown",
      "source": [
        "| Data Science Tools        |\n",
        "|---------------------------|\n",
        "| Jupyter Notebook          |\n",
        "| RStudio                   |\n",
        "| Apache Zeppelin           |\n"
      ],
      "metadata": {
        "id": "WO7Jc9RnIxf5"
      }
    },
    {
      "cell_type": "markdown",
      "source": [
        "<H3>Below are a few examples of evaluating arithmetic expressions in Python<H3>"
      ],
      "metadata": {
        "id": "1rULeoCFJB7-"
      }
    },
    {
      "cell_type": "code",
      "execution_count": 1,
      "metadata": {
        "colab": {
          "base_uri": "https://localhost:8080/"
        },
        "id": "yS4ZMI6nISFm",
        "outputId": "4a6bd333-50c8-49aa-91fc-1d2a37025363"
      },
      "outputs": [
        {
          "output_type": "execute_result",
          "data": {
            "text/plain": [
              "17"
            ]
          },
          "metadata": {},
          "execution_count": 1
        }
      ],
      "source": [
        "# This a simple arithmetic expression to mutiply then add integers\n",
        "(3*4)+5"
      ]
    },
    {
      "cell_type": "code",
      "source": [
        "# This will convert 200 minutes to hours by diving by 60\n",
        "200/60"
      ],
      "metadata": {
        "colab": {
          "base_uri": "https://localhost:8080/"
        },
        "id": "2zzCXoBhJFuc",
        "outputId": "0ed0b146-5ab4-499d-b8e5-de59d373c3dd"
      },
      "execution_count": 2,
      "outputs": [
        {
          "output_type": "execute_result",
          "data": {
            "text/plain": [
              "3.3333333333333335"
            ]
          },
          "metadata": {},
          "execution_count": 2
        }
      ]
    },
    {
      "cell_type": "markdown",
      "source": [
        "**Objectives:**\n",
        "\n",
        "\n",
        "*   List popular languages for Data Science\n",
        "*   Simple arithmatic expression\n",
        "*   Create a table in markdown\n",
        "\n",
        "\n"
      ],
      "metadata": {
        "id": "xu1q7v_AJfKI"
      }
    },
    {
      "cell_type": "markdown",
      "source": [
        "<H2>Author<H2>\n",
        "Galib Akmal Rizqi\n",
        "\n"
      ],
      "metadata": {
        "id": "EdQmAE7JKWTI"
      }
    }
  ]
}